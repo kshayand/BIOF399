{
 "cells": [
  {
   "cell_type": "markdown",
   "metadata": {},
   "source": [
    "# Whats Your Zodiac?"
   ]
  },
  {
   "cell_type": "markdown",
   "metadata": {},
   "source": [
    "Enter your birthday (first type month (1-12) enter, and then the day (1-31) enter. Invalid dates are not checked."
   ]
  },
  {
   "cell_type": "code",
   "execution_count": 24,
   "metadata": {},
   "outputs": [
    {
     "name": "stdout",
     "output_type": "stream",
     "text": [
      "4\n",
      "5\n"
     ]
    }
   ],
   "source": [
    "month = int(input())\n",
    "day = int(input())\n",
    "ans = \"\"\n",
    "if month == 3:\n",
    "    if day >=21:\n",
    "        ans = \"Aries\"\n",
    "    else:\n",
    "        ans = \"Pisces\"\n",
    "elif month == 4:\n",
    "    if day <= 19:\n",
    "        ans = \"Aries\"\n",
    "    else:\n",
    "        ans = \"Taurus\"\n",
    "elif month == 5:\n",
    "    if day <=20:\n",
    "        ans = \"Taurus\"\n",
    "    else:\n",
    "        ans = \"Gemini\"\n",
    "elif month == 6:\n",
    "    if day <= 20:\n",
    "        ans = \"Gemini\"\n",
    "    else:\n",
    "        ans = \"Cancer\"\n",
    "elif month == 7:\n",
    "    if day <= 23:\n",
    "        ans = \"Cancer\"\n",
    "    else:\n",
    "        ans = \"Leo\"\n",
    "elif month == 8:\n",
    "    if day <= 22:\n",
    "        ans = \"Leo\"\n",
    "    else:\n",
    "        ans = \"Virgo\"\n",
    "elif month == 9:\n",
    "    if day <= 22:\n",
    "        ans = \"Virgo\"\n",
    "    else:\n",
    "        ans = \"Libra\"\n",
    "elif month == 10:\n",
    "    if day <= 22:\n",
    "        ans = \"Libra\"\n",
    "    else:\n",
    "        ans = \"Scorpio\"\n",
    "elif month == 11:\n",
    "    if day <= 21:\n",
    "        ans = \"Scorpio\"\n",
    "    else:\n",
    "        ans = \"Sagittarius\"\n",
    "elif month == 12:\n",
    "    if day <= 21:\n",
    "        ans = \"Sagittarius\"\n",
    "    else:\n",
    "        ans = \"Capricorn\"\n",
    "elif month == 1:\n",
    "    if day<= 19:\n",
    "        ans = \"Capricorn\"\n",
    "    else:\n",
    "        ans = \"Aquarius\"\n",
    "else:\n",
    "    if day <= 18:\n",
    "        ans = \"Aquarius\"\n",
    "    else:\n",
    "        ans = \"Pisces\"\n"
   ]
  },
  {
   "cell_type": "code",
   "execution_count": 25,
   "metadata": {},
   "outputs": [
    {
     "name": "stdout",
     "output_type": "stream",
     "text": [
      "You are: Aries!\n"
     ]
    }
   ],
   "source": [
    "print(\"You are: \"+ ans + \"!\")"
   ]
  },
  {
   "cell_type": "code",
   "execution_count": null,
   "metadata": {},
   "outputs": [],
   "source": []
  }
 ],
 "metadata": {
  "kernelspec": {
   "display_name": "Python 3",
   "language": "python",
   "name": "python3"
  },
  "language_info": {
   "codemirror_mode": {
    "name": "ipython",
    "version": 3
   },
   "file_extension": ".py",
   "mimetype": "text/x-python",
   "name": "python",
   "nbconvert_exporter": "python",
   "pygments_lexer": "ipython3",
   "version": "3.7.6"
  }
 },
 "nbformat": 4,
 "nbformat_minor": 4
}
